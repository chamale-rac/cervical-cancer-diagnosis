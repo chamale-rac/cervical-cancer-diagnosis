{
 "cells": [
  {
   "cell_type": "markdown",
   "metadata": {},
   "source": [
    "# Cervical Cancer Prediction: Findings and Conclusions\n",
    "**CC3084 DATA SCIENCE - LAB 1**\n",
    "> Samuel A. Chamalé, `cha21881@uvg.edu.gt`\n",
    "\n",
    "> Adrian Rodriguez, `rod21691@uvg.edu.gt`\n",
    "---"
   ]
  },
  {
   "cell_type": "markdown",
   "metadata": {},
   "source": [
    "## Findings from the Exploratory Data Analysis (EDA)"
   ]
  },
  {
   "cell_type": "markdown",
   "metadata": {},
   "source": [
    "### Overview"
   ]
  },
  {
   "cell_type": "markdown",
   "metadata": {},
   "source": [
    "- The dataset contains various continuous and binary variables related to cervical cancer risk factors. But the majority was binary.\n",
    "- Continuous variables include age, number of sexual partners, age at first sexual intercourse, number of pregnancies, years of smoking, smoking intensity (packs/year), years of hormonal contraceptive use, and years of IUD use.\n"
   ]
  },
  {
   "cell_type": "markdown",
   "metadata": {},
   "source": [
    "### Cleaning"
   ]
  },
  {
   "cell_type": "markdown",
   "metadata": {},
   "source": [
    "- Handling of missing values and outliers was likely performed to ensure a clean dataset for analysis. We decide to remove all the rows containing NaN values, since this rows not represent a significant amount of the data."
   ]
  },
  {
   "cell_type": "markdown",
   "metadata": {},
   "source": [
    "### Correlation Analysis:"
   ]
  },
  {
   "cell_type": "markdown",
   "metadata": {},
   "source": [
    "- Moderate positive correlations were observed between age and number of pregnancies (0.56), and between age and age at first sexual intercourse (0.37).\n",
    "- High correlation between smoking years and smoking intensity (0.72), indicating these variables measure similar aspects of smoking behavior."
   ]
  },
  {
   "cell_type": "markdown",
   "metadata": {},
   "source": [
    "### Insights"
   ]
  },
  {
   "cell_type": "markdown",
   "metadata": {},
   "source": [
    "- Continuous variables exhibit varying degrees of correlation, suggesting some underlying patterns that could be explored through dimensionality reduction techniques like PCA.\n",
    "- We found that excluding binary variables from PCA doesn't impacts significantly over the results of the Explained Variance, by comparing number of components (elbow method) while including or not this columns."
   ]
  },
  {
   "cell_type": "markdown",
   "metadata": {},
   "source": [
    "Detailed process and comments at [`eda&cleaning.ipynb`](eda&cleaning.ipynb)"
   ]
  },
  {
   "cell_type": "markdown",
   "metadata": {},
   "source": [
    "## Conclusions from the Principal Component Analysis (PCA)\n"
   ]
  },
  {
   "cell_type": "markdown",
   "metadata": {},
   "source": [
    "- The correlation matrix and Bartlett's test justify the use of PCA, though the low KMO value suggests caution.\n",
    "- The first 4 principal components explain a significant portion of the variance (80%).\n",
    "- Each principal component captures distinct aspects of the data, with PC1 focusing on general health/lifestyle, PC2 on social/behavioral factors, PC3 on sexual health/behavior, and PC4 on contraceptive use."
   ]
  },
  {
   "cell_type": "markdown",
   "metadata": {},
   "source": [
    "Detailed process and comments at [`pca.ipynb`](pca.ipynb)"
   ]
  },
  {
   "cell_type": "markdown",
   "metadata": {},
   "source": [
    "## Findings and Conclusions on the Most Interesting Association Rules"
   ]
  },
  {
   "cell_type": "markdown",
   "metadata": {},
   "source": [
    "The analysis revealed that individuals aged 13-20 are often associated with having no STDs, no diagnoses, and short-term use (0-2 years) of hormonal contraceptives or IUDs, with a support of 12.4%, confidence between 57.24% and 60.14%, and a lift of 2.77. These patterns indicate that young individuals frequently use contraceptives for short durations and have fewer health issues, highlighting the importance of targeted health interventions and education for this demographic to promote safe contraceptive use and STD prevention. The strong metrics underscore the reliability and impact of these findings."
   ]
  },
  {
   "cell_type": "markdown",
   "metadata": {},
   "source": [
    "Detailed process and comments at [`apriori.ipynb`](apriori.ipynb)"
   ]
  }
 ],
 "metadata": {
  "kernelspec": {
   "display_name": "Python 3",
   "language": "python",
   "name": "python3"
  },
  "language_info": {
   "codemirror_mode": {
    "name": "ipython",
    "version": 3
   },
   "file_extension": ".py",
   "mimetype": "text/x-python",
   "name": "python",
   "nbconvert_exporter": "python",
   "pygments_lexer": "ipython3",
   "version": "3.12.4"
  }
 },
 "nbformat": 4,
 "nbformat_minor": 2
}
